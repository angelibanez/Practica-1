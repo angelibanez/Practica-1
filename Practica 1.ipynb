{
 "cells": [
  {
   "cell_type": "markdown",
   "metadata": {},
   "source": [
    "# Practica 1"
   ]
  },
  {
   "cell_type": "markdown",
   "metadata": {},
   "source": [
    "Comenzamos con la creación de nuestra cuenta en Azure, muy importante el poder vincularla con nuestra cuenta de la UNAM para poder disfrutar de los beneficios en créditos y poder utilizar la herramienta de máquinas virtuales. \n",
    "Establecimos la configuración con respecto a las características necesarias marcadas por el profesor. Una vez realizada la máquina virtual se comienza a trabajar con ella y se inicia la preparación de la misma para poder trabajar de una manera correcta en ella. \n",
    "Primero se comenzó a realizar la instalación de las actualizaciones de paquetes, la instalación del Nodo J, la instalación del gestor de paquetes NPM de NodeJs, la instalación del generador de aplicaciones Express y la instalación de PostgreSQL.\n",
    "Al terminar estas actualizaciones e instalaciones comenzamos con la creación de nuestra base de datos desde el superusuario, aunque contábamos con la opción desde el PostgreSQL, se crearon las carpetas donde íbamos a desarrollar esta práctica, el proyecto Express y sus dependencias.\n",
    "Dentro de nuestro proyecto iniciamos con la instalación de pg-promise y de bluebird. Una vez realizada esa instalación comenzamos a crear un archivo llamado queries.js donde se insertaron funciones y configuraciones indicadas por el profesor. Luego se creó un archivo llamado puppies.sql donde se colocaría el esquema de nuestra base de datos proporcionada por el profesor, está ya con un registro lleno. Posteriormente se realizó la corrida del SQL, donde se aplicaría el esquema e inserción de una fila, checamos la base de datos para que efectivamente viéramos la inserción de la fila. Proseguimos con la configuración de las rutas donde se ingresa a la carpeta específica y se edita el archivo index.js para colocar las direcciones de las funciones establecidas en el archivo queries.js. Finalmente se realiza la instalación de Forever el cual nos permite tener activa nuestra API por un tiempo prolongado incluso sin estar activo en el servidor. \n",
    "Para completar la práctica se eligió una función y el archivo queries.js se comentaron aquellas que no usaríamos y se insertó el desarrollo de la función elegida, la cual fue proporcionada por el profesor, después nos dirigimos a las rutas y entramos al archivo index.js, donde se comentaron las rutas que no usaríamos con respecto al archivo queries.js. Posteriormente corrimos el código correspondiente a contraseña del superusuario Postgres para determinar la contraseña de nuestro servicio, teniendo en cuenta que esta debe estar establecida en el archivo queries.js, para posteriormente reiniciar el servicio con la configuración establecida. Solo nos quedaba iniciar el servicio y podíamos revisar en nuestra dirección IP nuestra API funcionando. \n",
    "Cabe destacar que en la configuración de Azure se requería habilitar el puerto 3000 para que todo funcionara correctamente.\n"
   ]
  }
 ],
 "metadata": {
  "kernelspec": {
   "display_name": "Python 3",
   "language": "python",
   "name": "python3"
  },
  "language_info": {
   "codemirror_mode": {
    "name": "ipython",
    "version": 3
   },
   "file_extension": ".py",
   "mimetype": "text/x-python",
   "name": "python",
   "nbconvert_exporter": "python",
   "pygments_lexer": "ipython3",
   "version": "3.6.7"
  }
 },
 "nbformat": 4,
 "nbformat_minor": 2
}
